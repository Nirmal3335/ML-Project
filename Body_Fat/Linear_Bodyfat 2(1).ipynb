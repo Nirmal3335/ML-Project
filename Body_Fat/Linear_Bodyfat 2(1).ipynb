{
 "cells": [
  {
   "cell_type": "code",
   "execution_count": 4,
   "id": "630277bb",
   "metadata": {},
   "outputs": [],
   "source": [
    "import pandas as pd\n",
    "import numpy as np\n",
    "import matplotlib.pyplot as plt\n",
    "import seaborn as sns"
   ]
  },
  {
   "cell_type": "code",
   "execution_count": 5,
   "id": "34ef3b49",
   "metadata": {},
   "outputs": [],
   "source": [
    "fat=pd.read_csv (\"C:/Users/Admin/Desktop/Data Analytics-Edubridge/4.Advanced Python Libraries/Python Dataset/Bodyfat.csv\")"
   ]
  },
  {
   "cell_type": "code",
   "execution_count": 6,
   "id": "a86e3726",
   "metadata": {},
   "outputs": [
    {
     "data": {
      "text/plain": [
       "(100, 10)"
      ]
     },
     "execution_count": 6,
     "metadata": {},
     "output_type": "execute_result"
    }
   ],
   "source": [
    "fat.shape"
   ]
  },
  {
   "cell_type": "code",
   "execution_count": 7,
   "id": "86c9d25d",
   "metadata": {
    "scrolled": true
   },
   "outputs": [
    {
     "data": {
      "text/html": [
       "<div>\n",
       "<style scoped>\n",
       "    .dataframe tbody tr th:only-of-type {\n",
       "        vertical-align: middle;\n",
       "    }\n",
       "\n",
       "    .dataframe tbody tr th {\n",
       "        vertical-align: top;\n",
       "    }\n",
       "\n",
       "    .dataframe thead th {\n",
       "        text-align: right;\n",
       "    }\n",
       "</style>\n",
       "<table border=\"1\" class=\"dataframe\">\n",
       "  <thead>\n",
       "    <tr style=\"text-align: right;\">\n",
       "      <th></th>\n",
       "      <th>Bodyfat</th>\n",
       "      <th>Age</th>\n",
       "      <th>Weight</th>\n",
       "      <th>Height</th>\n",
       "      <th>Neck</th>\n",
       "      <th>Chest</th>\n",
       "      <th>Abdomen</th>\n",
       "      <th>Ankle</th>\n",
       "      <th>Biceps</th>\n",
       "      <th>Wrist</th>\n",
       "    </tr>\n",
       "  </thead>\n",
       "  <tbody>\n",
       "    <tr>\n",
       "      <th>0</th>\n",
       "      <td>32.3</td>\n",
       "      <td>41</td>\n",
       "      <td>247.25</td>\n",
       "      <td>73.50</td>\n",
       "      <td>42.1</td>\n",
       "      <td>117.0</td>\n",
       "      <td>115.6</td>\n",
       "      <td>26.3</td>\n",
       "      <td>37.3</td>\n",
       "      <td>19.7</td>\n",
       "    </tr>\n",
       "    <tr>\n",
       "      <th>1</th>\n",
       "      <td>22.5</td>\n",
       "      <td>31</td>\n",
       "      <td>177.25</td>\n",
       "      <td>71.50</td>\n",
       "      <td>36.2</td>\n",
       "      <td>101.1</td>\n",
       "      <td>92.4</td>\n",
       "      <td>24.6</td>\n",
       "      <td>30.1</td>\n",
       "      <td>18.2</td>\n",
       "    </tr>\n",
       "    <tr>\n",
       "      <th>2</th>\n",
       "      <td>22.0</td>\n",
       "      <td>42</td>\n",
       "      <td>156.25</td>\n",
       "      <td>69.00</td>\n",
       "      <td>35.5</td>\n",
       "      <td>97.8</td>\n",
       "      <td>86.0</td>\n",
       "      <td>24.0</td>\n",
       "      <td>31.2</td>\n",
       "      <td>17.4</td>\n",
       "    </tr>\n",
       "    <tr>\n",
       "      <th>3</th>\n",
       "      <td>12.3</td>\n",
       "      <td>23</td>\n",
       "      <td>154.25</td>\n",
       "      <td>67.75</td>\n",
       "      <td>36.2</td>\n",
       "      <td>93.1</td>\n",
       "      <td>85.2</td>\n",
       "      <td>21.9</td>\n",
       "      <td>32.0</td>\n",
       "      <td>17.1</td>\n",
       "    </tr>\n",
       "    <tr>\n",
       "      <th>4</th>\n",
       "      <td>20.5</td>\n",
       "      <td>46</td>\n",
       "      <td>177.00</td>\n",
       "      <td>70.00</td>\n",
       "      <td>37.2</td>\n",
       "      <td>99.7</td>\n",
       "      <td>95.6</td>\n",
       "      <td>22.5</td>\n",
       "      <td>29.1</td>\n",
       "      <td>17.7</td>\n",
       "    </tr>\n",
       "  </tbody>\n",
       "</table>\n",
       "</div>"
      ],
      "text/plain": [
       "   Bodyfat  Age  Weight  Height  Neck  Chest  Abdomen  Ankle  Biceps  Wrist\n",
       "0     32.3   41  247.25   73.50  42.1  117.0    115.6   26.3    37.3   19.7\n",
       "1     22.5   31  177.25   71.50  36.2  101.1     92.4   24.6    30.1   18.2\n",
       "2     22.0   42  156.25   69.00  35.5   97.8     86.0   24.0    31.2   17.4\n",
       "3     12.3   23  154.25   67.75  36.2   93.1     85.2   21.9    32.0   17.1\n",
       "4     20.5   46  177.00   70.00  37.2   99.7     95.6   22.5    29.1   17.7"
      ]
     },
     "execution_count": 7,
     "metadata": {},
     "output_type": "execute_result"
    }
   ],
   "source": [
    "fat.head()"
   ]
  },
  {
   "cell_type": "code",
   "execution_count": 8,
   "id": "456a16eb",
   "metadata": {},
   "outputs": [
    {
     "data": {
      "text/plain": [
       "Bodyfat    0\n",
       "Age        0\n",
       "Weight     0\n",
       "Height     0\n",
       "Neck       0\n",
       "Chest      0\n",
       "Abdomen    0\n",
       "Ankle      0\n",
       "Biceps     0\n",
       "Wrist      0\n",
       "dtype: int64"
      ]
     },
     "execution_count": 8,
     "metadata": {},
     "output_type": "execute_result"
    }
   ],
   "source": [
    "fat.isnull().sum()"
   ]
  },
  {
   "cell_type": "code",
   "execution_count": 9,
   "id": "1e937099",
   "metadata": {},
   "outputs": [
    {
     "data": {
      "text/plain": [
       "Bodyfat    float64\n",
       "Age          int64\n",
       "Weight     float64\n",
       "Height     float64\n",
       "Neck       float64\n",
       "Chest      float64\n",
       "Abdomen    float64\n",
       "Ankle      float64\n",
       "Biceps     float64\n",
       "Wrist      float64\n",
       "dtype: object"
      ]
     },
     "execution_count": 9,
     "metadata": {},
     "output_type": "execute_result"
    }
   ],
   "source": [
    "fat.dtypes"
   ]
  },
  {
   "cell_type": "code",
   "execution_count": 10,
   "id": "196068b9",
   "metadata": {},
   "outputs": [],
   "source": [
    "fat_x=fat.iloc[:,1:10]\n",
    "fat_y=fat.iloc[:,0]"
   ]
  },
  {
   "cell_type": "code",
   "execution_count": 11,
   "id": "2d24d86c",
   "metadata": {},
   "outputs": [],
   "source": [
    "import sklearn\n",
    "from sklearn.model_selection import train_test_split"
   ]
  },
  {
   "cell_type": "code",
   "execution_count": 12,
   "id": "cddaacdd",
   "metadata": {},
   "outputs": [],
   "source": [
    "fat_x_train,fat_x_test,fat_y_train,fat_y_test=train_test_split(fat_x,fat_y,test_size=0.2,random_state=101)"
   ]
  },
  {
   "cell_type": "code",
   "execution_count": 13,
   "id": "d7ef9d84",
   "metadata": {},
   "outputs": [
    {
     "data": {
      "text/plain": [
       "((80, 9), (20, 9), (80,), (20,))"
      ]
     },
     "execution_count": 13,
     "metadata": {},
     "output_type": "execute_result"
    }
   ],
   "source": [
    "fat_x_train.shape,fat_x_test.shape,fat_y_train.shape,fat_y_test.shape"
   ]
  },
  {
   "cell_type": "code",
   "execution_count": 14,
   "id": "0ee95009",
   "metadata": {},
   "outputs": [],
   "source": [
    "from sklearn import linear_model\n",
    "lin=linear_model.LinearRegression()"
   ]
  },
  {
   "cell_type": "code",
   "execution_count": 15,
   "id": "04177728",
   "metadata": {},
   "outputs": [
    {
     "data": {
      "text/plain": [
       "LinearRegression()"
      ]
     },
     "execution_count": 15,
     "metadata": {},
     "output_type": "execute_result"
    }
   ],
   "source": [
    "lin.fit(fat_x_train,fat_y_train)"
   ]
  },
  {
   "cell_type": "code",
   "execution_count": 16,
   "id": "25ad5d8f",
   "metadata": {},
   "outputs": [
    {
     "data": {
      "text/plain": [
       "array([15.41197371, 17.91203514, 26.208229  ,  9.3065253 , 17.19781033,\n",
       "       15.71986914, 15.34343669, 21.22376038, 25.84124476, 16.21750878,\n",
       "       18.27546378, 39.00246209, 20.47627265,  8.77596068, 14.96708907,\n",
       "       20.22014099, 11.11652802, 23.21648546, 14.95396894, 11.90256257])"
      ]
     },
     "execution_count": 16,
     "metadata": {},
     "output_type": "execute_result"
    }
   ],
   "source": [
    "lin_pred=lin.predict(fat_x_test)\n",
    "lin_pred"
   ]
  },
  {
   "cell_type": "code",
   "execution_count": 17,
   "id": "7682c9d0",
   "metadata": {},
   "outputs": [
    {
     "data": {
      "text/plain": [
       "-26.414007864142643"
      ]
     },
     "execution_count": 17,
     "metadata": {},
     "output_type": "execute_result"
    }
   ],
   "source": [
    "lin.intercept_"
   ]
  },
  {
   "cell_type": "code",
   "execution_count": 18,
   "id": "95d79a74",
   "metadata": {},
   "outputs": [
    {
     "data": {
      "text/plain": [
       "array([ 0.06561437, -0.09792121, -0.04315683,  0.04636035, -0.05303367,\n",
       "        0.9669442 ,  0.12517199,  0.12278188, -1.63202775])"
      ]
     },
     "execution_count": 18,
     "metadata": {},
     "output_type": "execute_result"
    }
   ],
   "source": [
    "lin.coef_"
   ]
  },
  {
   "cell_type": "code",
   "execution_count": 19,
   "id": "2f0e9e36",
   "metadata": {},
   "outputs": [
    {
     "data": {
      "text/plain": [
       "0.7341409715528517"
      ]
     },
     "execution_count": 19,
     "metadata": {},
     "output_type": "execute_result"
    }
   ],
   "source": [
    "R2=lin.score(fat_x_train,fat_y_train)\n",
    "R2"
   ]
  },
  {
   "cell_type": "code",
   "execution_count": 20,
   "id": "6ba1d2ca",
   "metadata": {},
   "outputs": [
    {
     "data": {
      "text/plain": [
       "0.6999590964667899"
      ]
     },
     "execution_count": 20,
     "metadata": {},
     "output_type": "execute_result"
    }
   ],
   "source": [
    "adjR2=1-(((1-R2)*(80-1))/(80-9-1))\n",
    "adjR2"
   ]
  },
  {
   "cell_type": "code",
   "execution_count": 37,
   "id": "7342a9ba",
   "metadata": {},
   "outputs": [],
   "source": [
    "from sklearn import metrics"
   ]
  },
  {
   "cell_type": "code",
   "execution_count": 39,
   "id": "2177a84b",
   "metadata": {},
   "outputs": [
    {
     "data": {
      "text/plain": [
       "12.471778557724864"
      ]
     },
     "execution_count": 39,
     "metadata": {},
     "output_type": "execute_result"
    }
   ],
   "source": [
    "new_MSE=metrics.mean_squared_error(fat_y_test,lin_pred)\n",
    "new_MSE\n"
   ]
  },
  {
   "cell_type": "code",
   "execution_count": 40,
   "id": "e27b082e",
   "metadata": {},
   "outputs": [
    {
     "data": {
      "text/plain": [
       "3.5315405360444134"
      ]
     },
     "execution_count": 40,
     "metadata": {},
     "output_type": "execute_result"
    }
   ],
   "source": [
    "data_RMSE=pow(new_MSE,0.5)\n",
    "data_RMSE\n"
   ]
  },
  {
   "cell_type": "code",
   "execution_count": 21,
   "id": "35b799ab",
   "metadata": {},
   "outputs": [
    {
     "data": {
      "text/html": [
       "<div>\n",
       "<style scoped>\n",
       "    .dataframe tbody tr th:only-of-type {\n",
       "        vertical-align: middle;\n",
       "    }\n",
       "\n",
       "    .dataframe tbody tr th {\n",
       "        vertical-align: top;\n",
       "    }\n",
       "\n",
       "    .dataframe thead th {\n",
       "        text-align: right;\n",
       "    }\n",
       "</style>\n",
       "<table border=\"1\" class=\"dataframe\">\n",
       "  <thead>\n",
       "    <tr style=\"text-align: right;\">\n",
       "      <th></th>\n",
       "      <th>Bodyfat</th>\n",
       "      <th>Age</th>\n",
       "      <th>Weight</th>\n",
       "      <th>Height</th>\n",
       "      <th>Neck</th>\n",
       "      <th>Chest</th>\n",
       "      <th>Abdomen</th>\n",
       "      <th>Ankle</th>\n",
       "      <th>Biceps</th>\n",
       "      <th>Wrist</th>\n",
       "    </tr>\n",
       "  </thead>\n",
       "  <tbody>\n",
       "    <tr>\n",
       "      <th>Bodyfat</th>\n",
       "      <td>1.000000</td>\n",
       "      <td>0.255798</td>\n",
       "      <td>0.595959</td>\n",
       "      <td>0.032210</td>\n",
       "      <td>0.504443</td>\n",
       "      <td>0.682266</td>\n",
       "      <td>0.811593</td>\n",
       "      <td>0.387911</td>\n",
       "      <td>0.418107</td>\n",
       "      <td>0.373095</td>\n",
       "    </tr>\n",
       "    <tr>\n",
       "      <th>Age</th>\n",
       "      <td>0.255798</td>\n",
       "      <td>1.000000</td>\n",
       "      <td>-0.097905</td>\n",
       "      <td>-0.268673</td>\n",
       "      <td>0.038501</td>\n",
       "      <td>0.072908</td>\n",
       "      <td>0.141339</td>\n",
       "      <td>-0.073522</td>\n",
       "      <td>-0.079398</td>\n",
       "      <td>0.216315</td>\n",
       "    </tr>\n",
       "    <tr>\n",
       "      <th>Weight</th>\n",
       "      <td>0.595959</td>\n",
       "      <td>-0.097905</td>\n",
       "      <td>1.000000</td>\n",
       "      <td>0.568433</td>\n",
       "      <td>0.838977</td>\n",
       "      <td>0.916047</td>\n",
       "      <td>0.888317</td>\n",
       "      <td>0.790388</td>\n",
       "      <td>0.786266</td>\n",
       "      <td>0.755123</td>\n",
       "    </tr>\n",
       "    <tr>\n",
       "      <th>Height</th>\n",
       "      <td>0.032210</td>\n",
       "      <td>-0.268673</td>\n",
       "      <td>0.568433</td>\n",
       "      <td>1.000000</td>\n",
       "      <td>0.370396</td>\n",
       "      <td>0.345312</td>\n",
       "      <td>0.265403</td>\n",
       "      <td>0.454985</td>\n",
       "      <td>0.435460</td>\n",
       "      <td>0.420928</td>\n",
       "    </tr>\n",
       "    <tr>\n",
       "      <th>Neck</th>\n",
       "      <td>0.504443</td>\n",
       "      <td>0.038501</td>\n",
       "      <td>0.838977</td>\n",
       "      <td>0.370396</td>\n",
       "      <td>1.000000</td>\n",
       "      <td>0.789799</td>\n",
       "      <td>0.769086</td>\n",
       "      <td>0.664068</td>\n",
       "      <td>0.701067</td>\n",
       "      <td>0.777259</td>\n",
       "    </tr>\n",
       "    <tr>\n",
       "      <th>Chest</th>\n",
       "      <td>0.682266</td>\n",
       "      <td>0.072908</td>\n",
       "      <td>0.916047</td>\n",
       "      <td>0.345312</td>\n",
       "      <td>0.789799</td>\n",
       "      <td>1.000000</td>\n",
       "      <td>0.922728</td>\n",
       "      <td>0.700092</td>\n",
       "      <td>0.730124</td>\n",
       "      <td>0.695795</td>\n",
       "    </tr>\n",
       "    <tr>\n",
       "      <th>Abdomen</th>\n",
       "      <td>0.811593</td>\n",
       "      <td>0.141339</td>\n",
       "      <td>0.888317</td>\n",
       "      <td>0.265403</td>\n",
       "      <td>0.769086</td>\n",
       "      <td>0.922728</td>\n",
       "      <td>1.000000</td>\n",
       "      <td>0.643211</td>\n",
       "      <td>0.652148</td>\n",
       "      <td>0.672061</td>\n",
       "    </tr>\n",
       "    <tr>\n",
       "      <th>Ankle</th>\n",
       "      <td>0.387911</td>\n",
       "      <td>-0.073522</td>\n",
       "      <td>0.790388</td>\n",
       "      <td>0.454985</td>\n",
       "      <td>0.664068</td>\n",
       "      <td>0.700092</td>\n",
       "      <td>0.643211</td>\n",
       "      <td>1.000000</td>\n",
       "      <td>0.650841</td>\n",
       "      <td>0.688320</td>\n",
       "    </tr>\n",
       "    <tr>\n",
       "      <th>Biceps</th>\n",
       "      <td>0.418107</td>\n",
       "      <td>-0.079398</td>\n",
       "      <td>0.786266</td>\n",
       "      <td>0.435460</td>\n",
       "      <td>0.701067</td>\n",
       "      <td>0.730124</td>\n",
       "      <td>0.652148</td>\n",
       "      <td>0.650841</td>\n",
       "      <td>1.000000</td>\n",
       "      <td>0.630473</td>\n",
       "    </tr>\n",
       "    <tr>\n",
       "      <th>Wrist</th>\n",
       "      <td>0.373095</td>\n",
       "      <td>0.216315</td>\n",
       "      <td>0.755123</td>\n",
       "      <td>0.420928</td>\n",
       "      <td>0.777259</td>\n",
       "      <td>0.695795</td>\n",
       "      <td>0.672061</td>\n",
       "      <td>0.688320</td>\n",
       "      <td>0.630473</td>\n",
       "      <td>1.000000</td>\n",
       "    </tr>\n",
       "  </tbody>\n",
       "</table>\n",
       "</div>"
      ],
      "text/plain": [
       "          Bodyfat       Age    Weight    Height      Neck     Chest   Abdomen  \\\n",
       "Bodyfat  1.000000  0.255798  0.595959  0.032210  0.504443  0.682266  0.811593   \n",
       "Age      0.255798  1.000000 -0.097905 -0.268673  0.038501  0.072908  0.141339   \n",
       "Weight   0.595959 -0.097905  1.000000  0.568433  0.838977  0.916047  0.888317   \n",
       "Height   0.032210 -0.268673  0.568433  1.000000  0.370396  0.345312  0.265403   \n",
       "Neck     0.504443  0.038501  0.838977  0.370396  1.000000  0.789799  0.769086   \n",
       "Chest    0.682266  0.072908  0.916047  0.345312  0.789799  1.000000  0.922728   \n",
       "Abdomen  0.811593  0.141339  0.888317  0.265403  0.769086  0.922728  1.000000   \n",
       "Ankle    0.387911 -0.073522  0.790388  0.454985  0.664068  0.700092  0.643211   \n",
       "Biceps   0.418107 -0.079398  0.786266  0.435460  0.701067  0.730124  0.652148   \n",
       "Wrist    0.373095  0.216315  0.755123  0.420928  0.777259  0.695795  0.672061   \n",
       "\n",
       "            Ankle    Biceps     Wrist  \n",
       "Bodyfat  0.387911  0.418107  0.373095  \n",
       "Age     -0.073522 -0.079398  0.216315  \n",
       "Weight   0.790388  0.786266  0.755123  \n",
       "Height   0.454985  0.435460  0.420928  \n",
       "Neck     0.664068  0.701067  0.777259  \n",
       "Chest    0.700092  0.730124  0.695795  \n",
       "Abdomen  0.643211  0.652148  0.672061  \n",
       "Ankle    1.000000  0.650841  0.688320  \n",
       "Biceps   0.650841  1.000000  0.630473  \n",
       "Wrist    0.688320  0.630473  1.000000  "
      ]
     },
     "execution_count": 21,
     "metadata": {},
     "output_type": "execute_result"
    }
   ],
   "source": [
    "fat.corr()"
   ]
  },
  {
   "cell_type": "code",
   "execution_count": 32,
   "id": "9a2a1c9f",
   "metadata": {},
   "outputs": [],
   "source": [
    "df1=pd.DataFrame({\"Actual\":fat_y_test,\"predicted\":lin_pred})\n",
    "#df1"
   ]
  },
  {
   "cell_type": "code",
   "execution_count": 33,
   "id": "c101ea40",
   "metadata": {},
   "outputs": [
    {
     "data": {
      "image/png": "[encoded data removed]",
      "text/plain": [
       "<Figure size 360x360 with 1 Axes>"
      ]
     },
     "metadata": {
      "needs_background": "light"
     },
     "output_type": "display_data"
    }
   ],
   "source": [
    "sns.lmplot(x=\"Actual\",y=\"predicted\",data=df1,fit_reg=False)\n",
    "d_line=np.arange(df1.min().min(),df1.max().max())\n",
    "plt.plot(d_line,d_line,color=\"green\",linestyle=\"-\")\n",
    "plt.show()"
   ]
  },
  {
   "cell_type": "markdown",
   "id": "210d5ccc",
   "metadata": {},
   "source": [
    "# Lasso()"
   ]
  },
  {
   "cell_type": "code",
   "execution_count": 22,
   "id": "9df8263a",
   "metadata": {},
   "outputs": [],
   "source": [
    "from sklearn.linear_model import Lasso\n",
    "lasso=Lasso()"
   ]
  },
  {
   "cell_type": "code",
   "execution_count": 23,
   "id": "b276810a",
   "metadata": {},
   "outputs": [
    {
     "data": {
      "text/plain": [
       "Lasso()"
      ]
     },
     "execution_count": 23,
     "metadata": {},
     "output_type": "execute_result"
    }
   ],
   "source": [
    "lasso.fit(fat_x_train,fat_y_train)"
   ]
  },
  {
   "cell_type": "code",
   "execution_count": 24,
   "id": "9034e252",
   "metadata": {},
   "outputs": [
    {
     "data": {
      "text/plain": [
       "array([ 0.02545641, -0.12008555, -0.        , -0.        ,  0.        ,\n",
       "        0.90888185, -0.        ,  0.        , -0.        ])"
      ]
     },
     "execution_count": 24,
     "metadata": {},
     "output_type": "execute_result"
    }
   ],
   "source": [
    "lasso.coef_ # Some of the coefficient become 0 in lasso"
   ]
  },
  {
   "cell_type": "code",
   "execution_count": 25,
   "id": "d159de7d",
   "metadata": {},
   "outputs": [
    {
     "data": {
      "text/plain": [
       "array([15.67944522, 18.60513806, 24.96997058, 10.53667308, 19.67153334,\n",
       "       15.41822321, 17.54278745, 20.57246591, 25.84366172, 15.8743779 ,\n",
       "       18.69801572, 36.13596732, 18.58247264,  8.50619386, 14.61878037,\n",
       "       19.85991708, 10.78515012, 23.55760269, 14.61950513, 12.20629682])"
      ]
     },
     "execution_count": 25,
     "metadata": {},
     "output_type": "execute_result"
    }
   ],
   "source": [
    "fat_p=lasso.predict(fat_x_test)\n",
    "fat_p"
   ]
  },
  {
   "cell_type": "code",
   "execution_count": 26,
   "id": "c3b26b00",
   "metadata": {},
   "outputs": [
    {
     "data": {
      "text/plain": [
       "0.7199996489639864"
      ]
     },
     "execution_count": 26,
     "metadata": {},
     "output_type": "execute_result"
    }
   ],
   "source": [
    "Lr2=lasso.score(fat_x_train,fat_y_train)\n",
    "Lr2"
   ]
  },
  {
   "cell_type": "code",
   "execution_count": 27,
   "id": "a6ed3681",
   "metadata": {},
   "outputs": [
    {
     "data": {
      "text/plain": [
       "0.6839996038307846"
      ]
     },
     "execution_count": 27,
     "metadata": {},
     "output_type": "execute_result"
    }
   ],
   "source": [
    "Ladr2=1-(((1-Lr2)*(80-1))/(80-9-1))\n",
    "Ladr2"
   ]
  },
  {
   "cell_type": "code",
   "execution_count": 28,
   "id": "1c214852",
   "metadata": {},
   "outputs": [
    {
     "data": {
      "text/html": [
       "<div>\n",
       "<style scoped>\n",
       "    .dataframe tbody tr th:only-of-type {\n",
       "        vertical-align: middle;\n",
       "    }\n",
       "\n",
       "    .dataframe tbody tr th {\n",
       "        vertical-align: top;\n",
       "    }\n",
       "\n",
       "    .dataframe thead th {\n",
       "        text-align: right;\n",
       "    }\n",
       "</style>\n",
       "<table border=\"1\" class=\"dataframe\">\n",
       "  <thead>\n",
       "    <tr style=\"text-align: right;\">\n",
       "      <th></th>\n",
       "      <th>Importance</th>\n",
       "      <th>Columns</th>\n",
       "    </tr>\n",
       "  </thead>\n",
       "  <tbody>\n",
       "    <tr>\n",
       "      <th>0</th>\n",
       "      <td>0.025456</td>\n",
       "      <td>Age</td>\n",
       "    </tr>\n",
       "    <tr>\n",
       "      <th>1</th>\n",
       "      <td>-0.120086</td>\n",
       "      <td>Weight</td>\n",
       "    </tr>\n",
       "    <tr>\n",
       "      <th>2</th>\n",
       "      <td>-0.000000</td>\n",
       "      <td>Height</td>\n",
       "    </tr>\n",
       "    <tr>\n",
       "      <th>3</th>\n",
       "      <td>-0.000000</td>\n",
       "      <td>Neck</td>\n",
       "    </tr>\n",
       "    <tr>\n",
       "      <th>4</th>\n",
       "      <td>0.000000</td>\n",
       "      <td>Chest</td>\n",
       "    </tr>\n",
       "    <tr>\n",
       "      <th>5</th>\n",
       "      <td>0.908882</td>\n",
       "      <td>Abdomen</td>\n",
       "    </tr>\n",
       "    <tr>\n",
       "      <th>6</th>\n",
       "      <td>-0.000000</td>\n",
       "      <td>Ankle</td>\n",
       "    </tr>\n",
       "    <tr>\n",
       "      <th>7</th>\n",
       "      <td>0.000000</td>\n",
       "      <td>Biceps</td>\n",
       "    </tr>\n",
       "    <tr>\n",
       "      <th>8</th>\n",
       "      <td>-0.000000</td>\n",
       "      <td>Wrist</td>\n",
       "    </tr>\n",
       "  </tbody>\n",
       "</table>\n",
       "</div>"
      ],
      "text/plain": [
       "   Importance  Columns\n",
       "0    0.025456      Age\n",
       "1   -0.120086   Weight\n",
       "2   -0.000000   Height\n",
       "3   -0.000000     Neck\n",
       "4    0.000000    Chest\n",
       "5    0.908882  Abdomen\n",
       "6   -0.000000    Ankle\n",
       "7    0.000000   Biceps\n",
       "8   -0.000000    Wrist"
      ]
     },
     "execution_count": 28,
     "metadata": {},
     "output_type": "execute_result"
    }
   ],
   "source": [
    "fat_df=pd.DataFrame({\"Importance\":list(lasso.coef_),\"Columns\":list(fat_x)})\n",
    "fat_df"
   ]
  },
  {
   "cell_type": "code",
   "execution_count": 35,
   "id": "4776114b",
   "metadata": {},
   "outputs": [
    {
     "data": {
      "text/html": [
       "<div>\n",
       "<style scoped>\n",
       "    .dataframe tbody tr th:only-of-type {\n",
       "        vertical-align: middle;\n",
       "    }\n",
       "\n",
       "    .dataframe tbody tr th {\n",
       "        vertical-align: top;\n",
       "    }\n",
       "\n",
       "    .dataframe thead th {\n",
       "        text-align: right;\n",
       "    }\n",
       "</style>\n",
       "<table border=\"1\" class=\"dataframe\">\n",
       "  <thead>\n",
       "    <tr style=\"text-align: right;\">\n",
       "      <th></th>\n",
       "      <th>Actual</th>\n",
       "      <th>predicted</th>\n",
       "    </tr>\n",
       "  </thead>\n",
       "  <tbody>\n",
       "    <tr>\n",
       "      <th>16</th>\n",
       "      <td>11.3</td>\n",
       "      <td>15.679445</td>\n",
       "    </tr>\n",
       "    <tr>\n",
       "      <th>1</th>\n",
       "      <td>22.5</td>\n",
       "      <td>18.605138</td>\n",
       "    </tr>\n",
       "    <tr>\n",
       "      <th>43</th>\n",
       "      <td>32.8</td>\n",
       "      <td>24.969971</td>\n",
       "    </tr>\n",
       "    <tr>\n",
       "      <th>67</th>\n",
       "      <td>5.6</td>\n",
       "      <td>10.536673</td>\n",
       "    </tr>\n",
       "    <tr>\n",
       "      <th>89</th>\n",
       "      <td>17.4</td>\n",
       "      <td>19.671533</td>\n",
       "    </tr>\n",
       "    <tr>\n",
       "      <th>21</th>\n",
       "      <td>14.9</td>\n",
       "      <td>15.418223</td>\n",
       "    </tr>\n",
       "    <tr>\n",
       "      <th>97</th>\n",
       "      <td>13.0</td>\n",
       "      <td>17.542787</td>\n",
       "    </tr>\n",
       "    <tr>\n",
       "      <th>51</th>\n",
       "      <td>25.2</td>\n",
       "      <td>20.572466</td>\n",
       "    </tr>\n",
       "    <tr>\n",
       "      <th>6</th>\n",
       "      <td>28.7</td>\n",
       "      <td>25.843662</td>\n",
       "    </tr>\n",
       "    <tr>\n",
       "      <th>41</th>\n",
       "      <td>16.7</td>\n",
       "      <td>15.874378</td>\n",
       "    </tr>\n",
       "    <tr>\n",
       "      <th>82</th>\n",
       "      <td>16.6</td>\n",
       "      <td>18.698016</td>\n",
       "    </tr>\n",
       "    <tr>\n",
       "      <th>25</th>\n",
       "      <td>40.1</td>\n",
       "      <td>36.135967</td>\n",
       "    </tr>\n",
       "    <tr>\n",
       "      <th>45</th>\n",
       "      <td>27.2</td>\n",
       "      <td>18.582473</td>\n",
       "    </tr>\n",
       "    <tr>\n",
       "      <th>68</th>\n",
       "      <td>15.6</td>\n",
       "      <td>8.506194</td>\n",
       "    </tr>\n",
       "    <tr>\n",
       "      <th>37</th>\n",
       "      <td>11.5</td>\n",
       "      <td>14.618780</td>\n",
       "    </tr>\n",
       "    <tr>\n",
       "      <th>31</th>\n",
       "      <td>18.3</td>\n",
       "      <td>19.859917</td>\n",
       "    </tr>\n",
       "    <tr>\n",
       "      <th>50</th>\n",
       "      <td>9.9</td>\n",
       "      <td>10.785150</td>\n",
       "    </tr>\n",
       "    <tr>\n",
       "      <th>32</th>\n",
       "      <td>24.2</td>\n",
       "      <td>23.557603</td>\n",
       "    </tr>\n",
       "    <tr>\n",
       "      <th>3</th>\n",
       "      <td>12.3</td>\n",
       "      <td>14.619505</td>\n",
       "    </tr>\n",
       "    <tr>\n",
       "      <th>48</th>\n",
       "      <td>13.6</td>\n",
       "      <td>12.206297</td>\n",
       "    </tr>\n",
       "  </tbody>\n",
       "</table>\n",
       "</div>"
      ],
      "text/plain": [
       "    Actual  predicted\n",
       "16    11.3  15.679445\n",
       "1     22.5  18.605138\n",
       "43    32.8  24.969971\n",
       "67     5.6  10.536673\n",
       "89    17.4  19.671533\n",
       "21    14.9  15.418223\n",
       "97    13.0  17.542787\n",
       "51    25.2  20.572466\n",
       "6     28.7  25.843662\n",
       "41    16.7  15.874378\n",
       "82    16.6  18.698016\n",
       "25    40.1  36.135967\n",
       "45    27.2  18.582473\n",
       "68    15.6   8.506194\n",
       "37    11.5  14.618780\n",
       "31    18.3  19.859917\n",
       "50     9.9  10.785150\n",
       "32    24.2  23.557603\n",
       "3     12.3  14.619505\n",
       "48    13.6  12.206297"
      ]
     },
     "execution_count": 35,
     "metadata": {},
     "output_type": "execute_result"
    }
   ],
   "source": [
    "df2=pd.DataFrame({\"Actual\":fat_y_test,\"predicted\":fat_p})\n",
    "df2\n"
   ]
  },
  {
   "cell_type": "code",
   "execution_count": 36,
   "id": "39607fd8",
   "metadata": {},
   "outputs": [
    {
     "data": {
      "image/png": "[encoded data removed]",
      "text/plain": [
       "<Figure size 360x360 with 1 Axes>"
      ]
     },
     "metadata": {
      "needs_background": "light"
     },
     "output_type": "display_data"
    }
   ],
   "source": [
    "sns.lmplot(x=\"Actual\",y=\"predicted\",data=df2,fit_reg=False)\n",
    "d_line=np.arange(df2.min().min(),df2.max().max())\n",
    "plt.plot(d_line,d_line,color=\"red\",linestyle=\"-\")\n",
    "plt.show()\n"
   ]
  },
  {
   "cell_type": "markdown",
   "id": "88f44090",
   "metadata": {},
   "source": [
    "# Ridge()"
   ]
  },
  {
   "cell_type": "code",
   "execution_count": 26,
   "id": "c0fb0bca",
   "metadata": {},
   "outputs": [],
   "source": [
    "from sklearn.linear_model import Ridge\n",
    "ridge=Ridge()"
   ]
  },
  {
   "cell_type": "code",
   "execution_count": 27,
   "id": "5ac552cb",
   "metadata": {},
   "outputs": [
    {
     "data": {
      "text/plain": [
       "Ridge()"
      ]
     },
     "execution_count": 27,
     "metadata": {},
     "output_type": "execute_result"
    }
   ],
   "source": [
    "ridge.fit(fat_x_train,fat_y_train)"
   ]
  },
  {
   "cell_type": "code",
   "execution_count": 28,
   "id": "ce8bcf18",
   "metadata": {},
   "outputs": [
    {
     "data": {
      "text/plain": [
       "array([15.40503502, 17.9399589 , 26.14918607,  9.36883469, 17.28044985,\n",
       "       15.69413187, 15.42842452, 21.19025731, 25.86106059, 16.20452421,\n",
       "       18.26659661, 38.91850368, 20.39418227,  8.77568888, 14.96599625,\n",
       "       20.23161328, 11.08558904, 23.26846669, 14.95548572, 11.93590389])"
      ]
     },
     "execution_count": 28,
     "metadata": {},
     "output_type": "execute_result"
    }
   ],
   "source": [
    "r_prd=ridge.predict(fat_x_test)\n",
    "r_prd"
   ]
  },
  {
   "cell_type": "code",
   "execution_count": 29,
   "id": "2c86f690",
   "metadata": {},
   "outputs": [
    {
     "data": {
      "text/plain": [
       "[0.063790565882896,\n",
       " -0.09805131017744001,\n",
       " -0.04589234442974952,\n",
       " 0.031467428066212465,\n",
       " -0.05192175457637038,\n",
       " 0.9659288962398962,\n",
       " 0.11048140868784423,\n",
       " 0.11964361420648445,\n",
       " -1.5535144317314928]"
      ]
     },
     "execution_count": 29,
     "metadata": {},
     "output_type": "execute_result"
    }
   ],
   "source": [
    "list(ridge.coef_)"
   ]
  },
  {
   "cell_type": "code",
   "execution_count": 30,
   "id": "127d4922",
   "metadata": {},
   "outputs": [
    {
     "data": {
      "text/html": [
       "<div>\n",
       "<style scoped>\n",
       "    .dataframe tbody tr th:only-of-type {\n",
       "        vertical-align: middle;\n",
       "    }\n",
       "\n",
       "    .dataframe tbody tr th {\n",
       "        vertical-align: top;\n",
       "    }\n",
       "\n",
       "    .dataframe thead th {\n",
       "        text-align: right;\n",
       "    }\n",
       "</style>\n",
       "<table border=\"1\" class=\"dataframe\">\n",
       "  <thead>\n",
       "    <tr style=\"text-align: right;\">\n",
       "      <th></th>\n",
       "      <th>Coeff</th>\n",
       "      <th>Columns</th>\n",
       "    </tr>\n",
       "  </thead>\n",
       "  <tbody>\n",
       "    <tr>\n",
       "      <th>0</th>\n",
       "      <td>0.063791</td>\n",
       "      <td>Age</td>\n",
       "    </tr>\n",
       "    <tr>\n",
       "      <th>1</th>\n",
       "      <td>-0.098051</td>\n",
       "      <td>Weight</td>\n",
       "    </tr>\n",
       "    <tr>\n",
       "      <th>2</th>\n",
       "      <td>-0.045892</td>\n",
       "      <td>Height</td>\n",
       "    </tr>\n",
       "    <tr>\n",
       "      <th>3</th>\n",
       "      <td>0.031467</td>\n",
       "      <td>Neck</td>\n",
       "    </tr>\n",
       "    <tr>\n",
       "      <th>4</th>\n",
       "      <td>-0.051922</td>\n",
       "      <td>Chest</td>\n",
       "    </tr>\n",
       "    <tr>\n",
       "      <th>5</th>\n",
       "      <td>0.965929</td>\n",
       "      <td>Abdomen</td>\n",
       "    </tr>\n",
       "    <tr>\n",
       "      <th>6</th>\n",
       "      <td>0.110481</td>\n",
       "      <td>Ankle</td>\n",
       "    </tr>\n",
       "    <tr>\n",
       "      <th>7</th>\n",
       "      <td>0.119644</td>\n",
       "      <td>Biceps</td>\n",
       "    </tr>\n",
       "    <tr>\n",
       "      <th>8</th>\n",
       "      <td>-1.553514</td>\n",
       "      <td>Wrist</td>\n",
       "    </tr>\n",
       "  </tbody>\n",
       "</table>\n",
       "</div>"
      ],
      "text/plain": [
       "      Coeff  Columns\n",
       "0  0.063791      Age\n",
       "1 -0.098051   Weight\n",
       "2 -0.045892   Height\n",
       "3  0.031467     Neck\n",
       "4 -0.051922    Chest\n",
       "5  0.965929  Abdomen\n",
       "6  0.110481    Ankle\n",
       "7  0.119644   Biceps\n",
       "8 -1.553514    Wrist"
      ]
     },
     "execution_count": 30,
     "metadata": {},
     "output_type": "execute_result"
    }
   ],
   "source": [
    "da1=pd.DataFrame({\"Coeff\":list(ridge.coef_),\"Columns\":list(fat_x)})\n",
    "da1"
   ]
  },
  {
   "cell_type": "code",
   "execution_count": 31,
   "id": "46a608e2",
   "metadata": {},
   "outputs": [
    {
     "data": {
      "text/plain": [
       "0.7341155756527902"
      ]
     },
     "execution_count": 31,
     "metadata": {},
     "output_type": "execute_result"
    }
   ],
   "source": [
    "rdr2=ridge.score(fat_x_train,fat_y_train)\n",
    "rdr2"
   ]
  },
  {
   "cell_type": "code",
   "execution_count": 32,
   "id": "2ec140af",
   "metadata": {},
   "outputs": [
    {
     "data": {
      "text/plain": [
       "0.6955816011097162"
      ]
     },
     "execution_count": 32,
     "metadata": {},
     "output_type": "execute_result"
    }
   ],
   "source": [
    "rdadr2=1-(((1-rdr2)*(80-1))/(80-9-1))\n",
    "rdadr2"
   ]
  },
  {
   "cell_type": "code",
   "execution_count": 33,
   "id": "3f5a013f",
   "metadata": {},
   "outputs": [],
   "source": [
    "list1 = [\"Linear\",\"Lasso\",\"ridge\"]\n",
    "list2 = [R2,Lr2,rdr2]\n",
    "list3 = [adjR2,Ladr2,rdadr2]\n"
   ]
  },
  {
   "cell_type": "code",
   "execution_count": 34,
   "id": "31479d01",
   "metadata": {},
   "outputs": [
    {
     "data": {
      "text/html": [
       "<div>\n",
       "<style scoped>\n",
       "    .dataframe tbody tr th:only-of-type {\n",
       "        vertical-align: middle;\n",
       "    }\n",
       "\n",
       "    .dataframe tbody tr th {\n",
       "        vertical-align: top;\n",
       "    }\n",
       "\n",
       "    .dataframe thead th {\n",
       "        text-align: right;\n",
       "    }\n",
       "</style>\n",
       "<table border=\"1\" class=\"dataframe\">\n",
       "  <thead>\n",
       "    <tr style=\"text-align: right;\">\n",
       "      <th></th>\n",
       "      <th>modelname</th>\n",
       "      <th>R-Square</th>\n",
       "      <th>Adj_R-Square</th>\n",
       "    </tr>\n",
       "  </thead>\n",
       "  <tbody>\n",
       "    <tr>\n",
       "      <th>0</th>\n",
       "      <td>Linear</td>\n",
       "      <td>0.734141</td>\n",
       "      <td>0.699959</td>\n",
       "    </tr>\n",
       "    <tr>\n",
       "      <th>1</th>\n",
       "      <td>Lasso</td>\n",
       "      <td>0.720000</td>\n",
       "      <td>0.684000</td>\n",
       "    </tr>\n",
       "    <tr>\n",
       "      <th>2</th>\n",
       "      <td>ridge</td>\n",
       "      <td>0.734116</td>\n",
       "      <td>0.695582</td>\n",
       "    </tr>\n",
       "  </tbody>\n",
       "</table>\n",
       "</div>"
      ],
      "text/plain": [
       "  modelname  R-Square  Adj_R-Square\n",
       "0    Linear  0.734141      0.699959\n",
       "1     Lasso  0.720000      0.684000\n",
       "2     ridge  0.734116      0.695582"
      ]
     },
     "execution_count": 34,
     "metadata": {},
     "output_type": "execute_result"
    }
   ],
   "source": [
    "final = pd.DataFrame({'modelname':list1,\"R-Square\":list2,\"Adj_R-Square\":list3})\n",
    "final\n"
   ]
  },
  {
   "cell_type": "markdown",
   "id": "0b7301ed",
   "metadata": {},
   "source": [
    "# Forward Elimination"
   ]
  },
  {
   "cell_type": "code",
   "execution_count": 1,
   "id": "0f1ce8e5",
   "metadata": {},
   "outputs": [],
   "source": [
    "from mlxtend.feature_selection import SequentialFeatureSelector as SFS\n",
    "from sklearn.linear_model import LinearRegression"
   ]
  },
  {
   "cell_type": "code",
   "execution_count": 58,
   "id": "dfc0ba64",
   "metadata": {},
   "outputs": [],
   "source": [
    "sfs = SFS(LinearRegression(),k_features=5,forward=True,floating=False,scoring = 'r2',cv = 0)\n"
   ]
  },
  {
   "cell_type": "code",
   "execution_count": 85,
   "id": "8d5f207f",
   "metadata": {},
   "outputs": [
    {
     "data": {
      "text/plain": [
       "SequentialFeatureSelector(cv=0, estimator=LinearRegression(), forward=False,\n",
       "                          k_features=5, scoring='r2')"
      ]
     },
     "execution_count": 85,
     "metadata": {},
     "output_type": "execute_result"
    }
   ],
   "source": [
    "sfs.fit(fat_x,fat_y)"
   ]
  },
  {
   "cell_type": "code",
   "execution_count": 86,
   "id": "e3da1b5d",
   "metadata": {},
   "outputs": [
    {
     "data": {
      "text/plain": [
       "('Age', 'Weight', 'Chest', 'Abdomen', 'Wrist')"
      ]
     },
     "execution_count": 86,
     "metadata": {},
     "output_type": "execute_result"
    }
   ],
   "source": [
    "sfs.k_feature_names_\n"
   ]
  },
  {
   "cell_type": "code",
   "execution_count": 87,
   "id": "4bf1688c",
   "metadata": {},
   "outputs": [
    {
     "data": {
      "text/plain": [
       "0.7558669049390692"
      ]
     },
     "execution_count": 87,
     "metadata": {},
     "output_type": "execute_result"
    }
   ],
   "source": [
    "sfs.k_score_\n"
   ]
  },
  {
   "cell_type": "markdown",
   "id": "0515a234",
   "metadata": {},
   "source": [
    "# Backward Elimination "
   ]
  },
  {
   "cell_type": "code",
   "execution_count": 81,
   "id": "6279398b",
   "metadata": {},
   "outputs": [],
   "source": [
    "sfs2 = SFS(LinearRegression(),k_features=5,forward=False,floating=False,scoring = 'r2',cv = 0)"
   ]
  },
  {
   "cell_type": "code",
   "execution_count": 88,
   "id": "30f3b4f6",
   "metadata": {},
   "outputs": [
    {
     "data": {
      "text/plain": [
       "SequentialFeatureSelector(cv=0, estimator=LinearRegression(), forward=False,\n",
       "                          k_features=5, scoring='r2')"
      ]
     },
     "execution_count": 88,
     "metadata": {},
     "output_type": "execute_result"
    }
   ],
   "source": [
    "sfs2.fit(fat_x,fat_y)"
   ]
  },
  {
   "cell_type": "code",
   "execution_count": 89,
   "id": "fe5eb55c",
   "metadata": {},
   "outputs": [
    {
     "data": {
      "text/plain": [
       "('Age', 'Weight', 'Chest', 'Abdomen', 'Wrist')"
      ]
     },
     "execution_count": 89,
     "metadata": {},
     "output_type": "execute_result"
    }
   ],
   "source": [
    "sfs2.k_feature_names_\n"
   ]
  },
  {
   "cell_type": "code",
   "execution_count": 90,
   "id": "1ca64c7a",
   "metadata": {},
   "outputs": [
    {
     "data": {
      "text/plain": [
       "0.7558669049390692"
      ]
     },
     "execution_count": 90,
     "metadata": {},
     "output_type": "execute_result"
    }
   ],
   "source": [
    "sfs2.k_score_"
   ]
  },
  {
   "cell_type": "code",
   "execution_count": null,
   "id": "2447b2da",
   "metadata": {},
   "outputs": [],
   "source": [
    "sns.lmplot(x='Actual', y='Predicted', data=df_results, fit_reg=False)"
   ]
  }
 ],
 "metadata": {
  "kernelspec": {
   "display_name": "Python 3 (ipykernel)",
   "language": "python",
   "name": "python3"
  },
  "language_info": {
   "codemirror_mode": {
    "name": "ipython",
    "version": 3
   },
   "file_extension": ".py",
   "mimetype": "text/x-python",
   "name": "python",
   "nbconvert_exporter": "python",
   "pygments_lexer": "ipython3",
   "version": "3.9.13"
  }
 },
 "nbformat": 4,
 "nbformat_minor": 5
}
